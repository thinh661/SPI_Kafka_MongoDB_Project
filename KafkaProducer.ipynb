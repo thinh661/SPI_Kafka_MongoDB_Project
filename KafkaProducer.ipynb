{
 "cells": [
  {
   "cell_type": "code",
   "execution_count": 1,
   "id": "83a2cc5a-dc69-4a61-a03f-a572496eb34f",
   "metadata": {},
   "outputs": [
    {
     "name": "stderr",
     "output_type": "stream",
     "text": [
      "d:\\anaconda3\\Lib\\site-packages\\paramiko\\transport.py:219: CryptographyDeprecationWarning: Blowfish has been deprecated\n",
      "  \"class\": algorithms.Blowfish,\n"
     ]
    }
   ],
   "source": [
    "from utlis import Utlis"
   ]
  },
  {
   "cell_type": "code",
   "execution_count": 2,
   "id": "d3e00664-8592-42f5-95e3-c5be9cbc3964",
   "metadata": {},
   "outputs": [
    {
     "name": "stdout",
     "output_type": "stream",
     "text": [
      "Requested video sources are:\n",
      "  - .\\demo_data\\video_sample_1.mp4\n",
      "  - .\\demo_data\\video_sample_2.mp4\n",
      "  - .\\demo_data\\video_sample_3.mp4\n",
      "  - .\\demo_data\\video_sample_4.mp4\n",
      "  - .\\demo_data\\video_phu_test.mp4\n",
      "  - .\\demo_data\\video_thinh_test.mp4\n",
      "  - .\\demo_data\\video_manh_test.mp4\n",
      "  - .\\demo_data\\video_trung_test.mp4\n",
      "  - .\\demo_data\\video_messi_test.mp4\n",
      "  - .\\demo_data\\video_quys_test.mp4\n",
      "\n",
      "\n"
     ]
    }
   ],
   "source": [
    "def main():\n",
    "    kafka_producer = Utlis(mode=\"producer\")\n",
    "    kafka_producer.produce_kafka_messages()   \n",
    "main()"
   ]
  }
 ],
 "metadata": {
  "kernelspec": {
   "display_name": "Python 3 (ipykernel)",
   "language": "python",
   "name": "python3"
  },
  "language_info": {
   "codemirror_mode": {
    "name": "ipython",
    "version": 3
   },
   "file_extension": ".py",
   "mimetype": "text/x-python",
   "name": "python",
   "nbconvert_exporter": "python",
   "pygments_lexer": "ipython3",
   "version": "3.11.4"
  }
 },
 "nbformat": 4,
 "nbformat_minor": 5
}
