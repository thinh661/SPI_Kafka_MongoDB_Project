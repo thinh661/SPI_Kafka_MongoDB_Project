{
 "cells": [
  {
   "cell_type": "code",
   "execution_count": 3,
   "id": "4fa531a2-eea2-4e2d-b48a-3221e6fae605",
   "metadata": {},
   "outputs": [],
   "source": [
    "from utlis import Utlis"
   ]
  },
  {
   "cell_type": "code",
   "execution_count": 4,
   "id": "869bff6b-fac5-4faf-991e-05a5b2707b28",
   "metadata": {},
   "outputs": [
    {
     "name": "stdout",
     "output_type": "stream",
     "text": [
      "Requested video sources are:\n",
      "  - .\\demo_data\\video_sample_1.mp4\n",
      "  - .\\demo_data\\video_sample_2.mp4\n",
      "  - .\\demo_data\\video_sample_3.mp4\n",
      "  - .\\demo_data\\video_sample_4.mp4\n",
      "  - .\\demo_data\\video_phu_test.mp4\n",
      "  - .\\demo_data\\video_thinh_test.mp4\n",
      "  - .\\demo_data\\video_manh_test.mp4\n",
      "  - .\\demo_data\\video_trung_test.mp4\n",
      "  - .\\demo_data\\video_messi_test.mp4\n",
      "  - .\\demo_data\\video_quys_test.mp4\n",
      "\n",
      "\n",
      "11 khuôn mặt cần tìm kiếm!.\n",
      "Encoding images loaded\n"
     ]
    },
    {
     "data": {
      "application/vnd.jupyter.widget-view+json": {
       "model_id": "dff4cb112aea49b194a285ef128206bc",
       "version_major": 2,
       "version_minor": 0
      },
      "text/plain": [
       "Map(center=[38.6252978589571, -97.3458993652344], controls=(ZoomControl(options=['position', 'zoom_in_text', '…"
      ]
     },
     "metadata": {},
     "output_type": "display_data"
    },
    {
     "name": "stdout",
     "output_type": "stream",
     "text": [
      "New files #: 0\n",
      "FPS: 0/1e-05 = 0.0 FPS\n",
      "New files #: 0\n",
      "FPS: 0/1e-05 = 0.0 FPS\n",
      "New files #: 0\n",
      "FPS: 0/1e-05 = 0.0 FPS\n",
      "New files #: 0\n",
      "FPS: 0/1e-05 = 0.0 FPS\n",
      "New files #: 0\n",
      "FPS: 0/1e-05 = 0.0 FPS\n",
      "New files #: 0\n",
      "FPS: 0/1e-05 = 0.0 FPS\n"
     ]
    },
    {
     "ename": "KeyboardInterrupt",
     "evalue": "",
     "output_type": "error",
     "traceback": [
      "\u001b[1;31m---------------------------------------------------------------------------\u001b[0m",
      "\u001b[1;31mKeyboardInterrupt\u001b[0m                         Traceback (most recent call last)",
      "Cell \u001b[1;32mIn[4], line 4\u001b[0m\n\u001b[0;32m      2\u001b[0m     frame_recongizer \u001b[38;5;241m=\u001b[39m Utlis(mode\u001b[38;5;241m=\u001b[39m\u001b[38;5;124m\"\u001b[39m\u001b[38;5;124mrecognition\u001b[39m\u001b[38;5;124m\"\u001b[39m)\n\u001b[0;32m      3\u001b[0m     frame_recongizer\u001b[38;5;241m.\u001b[39mperform_spark_streaming_and_processing() \n\u001b[1;32m----> 4\u001b[0m \u001b[43mmain\u001b[49m\u001b[43m(\u001b[49m\u001b[43m)\u001b[49m\n",
      "Cell \u001b[1;32mIn[4], line 3\u001b[0m, in \u001b[0;36mmain\u001b[1;34m()\u001b[0m\n\u001b[0;32m      1\u001b[0m \u001b[38;5;28;01mdef\u001b[39;00m \u001b[38;5;21mmain\u001b[39m():\n\u001b[0;32m      2\u001b[0m     frame_recongizer \u001b[38;5;241m=\u001b[39m Utlis(mode\u001b[38;5;241m=\u001b[39m\u001b[38;5;124m\"\u001b[39m\u001b[38;5;124mrecognition\u001b[39m\u001b[38;5;124m\"\u001b[39m)\n\u001b[1;32m----> 3\u001b[0m     \u001b[43mframe_recongizer\u001b[49m\u001b[38;5;241;43m.\u001b[39;49m\u001b[43mperform_spark_streaming_and_processing\u001b[49m\u001b[43m(\u001b[49m\u001b[43m)\u001b[49m\n",
      "File \u001b[1;32md:\\WorkSpace_Thinh1\\Big_Data_Project\\SPI_Kafka_MongoDB\\utlis.py:182\u001b[0m, in \u001b[0;36mUtlis.perform_spark_streaming_and_processing\u001b[1;34m(self, patience)\u001b[0m\n\u001b[0;32m    178\u001b[0m waited_for \u001b[38;5;241m=\u001b[39m \u001b[38;5;241m0\u001b[39m\n\u001b[0;32m    180\u001b[0m \u001b[38;5;28;01mwhile\u001b[39;00m \u001b[38;5;28;01mTrue\u001b[39;00m:\n\u001b[1;32m--> 182\u001b[0m     time\u001b[38;5;241m.\u001b[39msleep(\u001b[38;5;241m2\u001b[39m)\n\u001b[0;32m    184\u001b[0m     ongoing_files \u001b[38;5;241m=\u001b[39m os\u001b[38;5;241m.\u001b[39mlistdir(\u001b[38;5;28mself\u001b[39m\u001b[38;5;241m.\u001b[39mdata_store_dir)\n\u001b[0;32m    185\u001b[0m     random\u001b[38;5;241m.\u001b[39mshuffle(ongoing_files)\n",
      "\u001b[1;31mKeyboardInterrupt\u001b[0m: "
     ]
    }
   ],
   "source": [
    "def main():\n",
    "    frame_recongizer = Utlis(mode=\"recognition\")\n",
    "    frame_recongizer.perform_spark_streaming_and_processing() \n",
    "main()"
   ]
  },
  {
   "cell_type": "code",
   "execution_count": 3,
   "id": "0ea05181-6b74-41b2-a601-a77839784736",
   "metadata": {},
   "outputs": [
    {
     "name": "stdout",
     "output_type": "stream",
     "text": [
      "FPS: 600/5.10900092124939 = 117.43979091968376 FPS\n"
     ]
    }
   ],
   "source": [
    "import os\n",
    "import cv2\n",
    "import time\n",
    "import pickle\n",
    "import ujson as json\n",
    "from json import JSONEncoder\n",
    "import numpy as np\n",
    "import matplotlib.pyplot as plt\n",
    "\n",
    "# encode frame when saving into json file:\n",
    "class NumpyArrayEncoder(JSONEncoder):\n",
    "    def default(self, obj):\n",
    "        if isinstance(obj, np.ndarray):\n",
    "            return obj.tolist()\n",
    "        return JSONEncoder.default(self, obj)\n",
    "\n",
    "vidcap = cv2.VideoCapture(\"http://commondatastorage.googleapis.com/gtv-videos-bucket/sample/BigBuckBunny.mp4\")  # 'BigBuckBunny.mp4')\n",
    "success,frame = vidcap.read()\n",
    "count = 0\n",
    "start = time.time()\n",
    "save_to = os.path.join(os.getcwd(), \"test\")\n",
    "while success:   \n",
    "    \n",
    "    data = {\n",
    "            'frame' : frame,\n",
    "            'shape' : str(frame.shape),\n",
    "            'dtype' : str(frame.dtype),\n",
    "            'timestamp': str(time.time()),\n",
    "            'cam_id' : str(2124),\n",
    "            'cam_latitude' : 29.42842,\n",
    "            'cam_longitude' : -98.43854,\n",
    "            'video_source' : \"BigBuckBunny.mp4\"\n",
    "    }\n",
    "    save_frame_as = os.path.join(save_to, f\"{count}.pickle\") \n",
    "    with open(save_frame_as, 'wb') as f:\n",
    "        # Pickle the 'data' dictionary using the highest protocol available.\n",
    "        pickle.dump(data, f, pickle.HIGHEST_PROTOCOL)\n",
    "    # with open(save_frame_as, 'w') as f:\n",
    "    #    encodedNumpyData = json.dump(data, f)  # , cls=NumpyArrayEncoder)  # use dumps() to use it as local file\n",
    "    with open(save_frame_as, \"rb\") as input_file:\n",
    "        e = pickle.load(input_file)\n",
    "    frame = e[\"frame\"]        \n",
    "    \n",
    "    success,frame = vidcap.read()\n",
    "    count += 1\n",
    "    \n",
    "    if count >= 600:\n",
    "        break\n",
    "    \n",
    "end = time.time()\n",
    "final_time = end - start\n",
    "fps = count/final_time\n",
    "print(f\"FPS: {count}/{final_time} = {fps} FPS\")"
   ]
  }
 ],
 "metadata": {
  "kernelspec": {
   "display_name": "Python 3 (ipykernel)",
   "language": "python",
   "name": "python3"
  },
  "language_info": {
   "codemirror_mode": {
    "name": "ipython",
    "version": 3
   },
   "file_extension": ".py",
   "mimetype": "text/x-python",
   "name": "python",
   "nbconvert_exporter": "python",
   "pygments_lexer": "ipython3",
   "version": "3.11.4"
  }
 },
 "nbformat": 4,
 "nbformat_minor": 5
}
