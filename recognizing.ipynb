{
 "cells": [
  {
   "cell_type": "code",
   "execution_count": 1,
   "id": "4fa531a2-eea2-4e2d-b48a-3221e6fae605",
   "metadata": {},
   "outputs": [
    {
     "name": "stderr",
     "output_type": "stream",
     "text": [
      "d:\\anaconda3\\Lib\\site-packages\\paramiko\\transport.py:219: CryptographyDeprecationWarning: Blowfish has been deprecated\n",
      "  \"class\": algorithms.Blowfish,\n"
     ]
    }
   ],
   "source": [
    "from utlis import Utlis"
   ]
  },
  {
   "cell_type": "code",
   "execution_count": 2,
   "id": "869bff6b-fac5-4faf-991e-05a5b2707b28",
   "metadata": {},
   "outputs": [
    {
     "name": "stdout",
     "output_type": "stream",
     "text": [
      "Requested video sources are:\n",
      "  - .\\demo_data\\video_sample_1.mp4\n",
      "  - .\\demo_data\\video_sample_2.mp4\n",
      "  - .\\demo_data\\video_sample_3.mp4\n",
      "  - .\\demo_data\\video_sample_4.mp4\n",
      "  - .\\demo_data\\video_phu_test.mp4\n",
      "  - .\\demo_data\\video_thinh_test.mp4\n",
      "  - .\\demo_data\\video_manh_test.mp4\n",
      "\n",
      "\n",
      "8 khuôn mặt cần tìm kiếm!.\n",
      "Encoding images loaded\n"
     ]
    },
    {
     "data": {
      "application/vnd.jupyter.widget-view+json": {
       "model_id": "802d03637d7e4b2fb5c376dfd2c1aa45",
       "version_major": 2,
       "version_minor": 0
      },
      "text/plain": [
       "Map(center=[38.6252978589571, -97.3458993652344], controls=(ZoomControl(options=['position', 'zoom_in_text', '…"
      ]
     },
     "metadata": {},
     "output_type": "display_data"
    },
    {
     "name": "stdout",
     "output_type": "stream",
     "text": [
      "New files #: 0\n",
      "FPS: 0/1e-05 = 0.0 FPS\n",
      "New files #: 0\n",
      "FPS: 0/1e-05 = 0.0 FPS\n",
      "New files #: 0\n",
      "FPS: 0/1e-05 = 0.0 FPS\n",
      "New files #: 0\n",
      "FPS: 0/1e-05 = 0.0 FPS\n",
      "New files #: 0\n",
      "FPS: 0/1e-05 = 0.0 FPS\n",
      "New files #: 0\n",
      "FPS: 0/1e-05 = 0.0 FPS\n",
      "New files #: 0\n",
      "FPS: 0/1e-05 = 0.0 FPS\n",
      "New files #: 0\n",
      "FPS: 0/1e-05 = 0.0 FPS\n",
      "New files #: 0\n",
      "FPS: 0/1e-05 = 0.0 FPS\n",
      "New files #: 0\n",
      "FPS: 0/1e-05 = 0.0 FPS\n",
      "New files #: 0\n",
      "FPS: 0/1e-05 = 0.0 FPS\n",
      "New files #: 0\n",
      "FPS: 0/1e-05 = 0.0 FPS\n",
      "New files #: 0\n",
      "FPS: 0/1e-05 = 0.0 FPS\n",
      "New files #: 0\n",
      "FPS: 0/1e-05 = 0.0 FPS\n",
      "New files #: 0\n",
      "FPS: 0/1e-05 = 0.0 FPS\n",
      "New files #: 0\n",
      "FPS: 0/1e-05 = 0.0 FPS\n",
      "New files #: 0\n",
      "FPS: 0/1e-05 = 0.0 FPS\n",
      "New files #: 0\n",
      "FPS: 0/1e-05 = 0.0 FPS\n",
      "New files #: 0\n",
      "FPS: 0/1e-05 = 0.0 FPS\n",
      "New files #: 0\n",
      "FPS: 0/1e-05 = 0.0 FPS\n",
      "New files #: 0\n",
      "FPS: 0/1e-05 = 0.0 FPS\n",
      "New files #: 0\n",
      "FPS: 0/1e-05 = 0.0 FPS\n",
      "New files #: 0\n",
      "FPS: 0/1e-05 = 0.0 FPS\n",
      "New files #: 0\n",
      "FPS: 0/1e-05 = 0.0 FPS\n",
      "New files #: 0\n",
      "FPS: 0/1e-05 = 0.0 FPS\n",
      "New files #: 0\n",
      "FPS: 0/1e-05 = 0.0 FPS\n",
      "New files #: 295\n",
      "Phát hiện Chris_Pratt ở cam_id = 102, frame_num = 1 và vĩ/kinh độ = 19.753641/-155.523956\n",
      "Image saved to MongoDB with ObjectId: 6592cf2f25203765b81dd010\n",
      "Phát hiện Ben_Affleck ở cam_id = 101, frame_num = 4 và vĩ/kinh độ = 34.130499/-118.321127\n",
      "Image saved to MongoDB with ObjectId: 6592cf3325203765b81dd012\n",
      "Phát hiện Levan_Suliman ở cam_id = 104, frame_num = 6 và vĩ/kinh độ = 38.962368/-77.018047\n",
      "Image saved to MongoDB with ObjectId: 6592cf3525203765b81dd014\n",
      "Phát hiện thinh ở cam_id = 106, frame_num = 9 và vĩ/kinh độ = 21.641/105.43\n",
      "Image saved to MongoDB with ObjectId: 6592cf3625203765b81dd016\n",
      "Phát hiện jeff_bezos ở cam_id = 103, frame_num = 10 và vĩ/kinh độ = 29.774382/-95.368318\n",
      "Image saved to MongoDB with ObjectId: 6592cf3725203765b81dd018\n",
      "Phát hiện manh ở cam_id = 107, frame_num = 49 và vĩ/kinh độ = 21.030696/105.852405\n",
      "Image saved to MongoDB with ObjectId: 6592cf4425203765b81dd01a\n",
      "Phát hiện phu ở cam_id = 105, frame_num = 76 và vĩ/kinh độ = 18.06/105.36\n",
      "Image saved to MongoDB with ObjectId: 6592cf4e25203765b81dd01c\n"
     ]
    },
    {
     "ename": "",
     "evalue": "",
     "output_type": "error",
     "traceback": [
      "\u001b[1;31mThe Kernel crashed while executing code in the the current cell or a previous cell. Please review the code in the cell(s) to identify a possible cause of the failure. Click <a href='https://aka.ms/vscodeJupyterKernelCrash'>here</a> for more info. View Jupyter <a href='command:jupyter.viewOutput'>log</a> for further details."
     ]
    }
   ],
   "source": [
    "def main():\n",
    "    frame_recongizer = Utlis(mode=\"recognition\")\n",
    "    frame_recongizer.perform_spark_streaming_and_processing() \n",
    "main()"
   ]
  },
  {
   "cell_type": "code",
   "execution_count": 3,
   "id": "0ea05181-6b74-41b2-a601-a77839784736",
   "metadata": {},
   "outputs": [
    {
     "name": "stdout",
     "output_type": "stream",
     "text": [
      "FPS: 600/5.10900092124939 = 117.43979091968376 FPS\n"
     ]
    }
   ],
   "source": [
    "import os\n",
    "import cv2\n",
    "import time\n",
    "import pickle\n",
    "import ujson as json\n",
    "from json import JSONEncoder\n",
    "import numpy as np\n",
    "import matplotlib.pyplot as plt\n",
    "\n",
    "# encode frame when saving into json file:\n",
    "class NumpyArrayEncoder(JSONEncoder):\n",
    "    def default(self, obj):\n",
    "        if isinstance(obj, np.ndarray):\n",
    "            return obj.tolist()\n",
    "        return JSONEncoder.default(self, obj)\n",
    "\n",
    "vidcap = cv2.VideoCapture(\"http://commondatastorage.googleapis.com/gtv-videos-bucket/sample/BigBuckBunny.mp4\")  # 'BigBuckBunny.mp4')\n",
    "success,frame = vidcap.read()\n",
    "# print(success)\n",
    "count = 0\n",
    "start = time.time()\n",
    "save_to = os.path.join(os.getcwd(), \"test\")\n",
    "while success:\n",
    "    # cv2.imwrite(\"test/frame%d.jpg\" % count, frame)     # save frame as JPEG file      \n",
    "    \n",
    "    data = {\n",
    "            'frame' : frame,\n",
    "            'shape' : str(frame.shape),\n",
    "            'dtype' : str(frame.dtype),\n",
    "            'timestamp': str(time.time()),\n",
    "            'cam_id' : str(2124),\n",
    "            'cam_latitude' : 29.42842,\n",
    "            'cam_longitude' : -98.43854,\n",
    "            'video_source' : \"BigBuckBunny.mp4\"\n",
    "    }\n",
    "    save_frame_as = os.path.join(save_to, f\"{count}.pickle\") \n",
    "    with open(save_frame_as, 'wb') as f:\n",
    "        # Pickle the 'data' dictionary using the highest protocol available.\n",
    "        pickle.dump(data, f, pickle.HIGHEST_PROTOCOL)\n",
    "    # with open(save_frame_as, 'w') as f:\n",
    "    #    encodedNumpyData = json.dump(data, f)  # , cls=NumpyArrayEncoder)  # use dumps() to use it as local file\n",
    "    with open(save_frame_as, \"rb\") as input_file:\n",
    "        e = pickle.load(input_file)\n",
    "    frame = e[\"frame\"]        \n",
    "    \n",
    "    success,frame = vidcap.read()\n",
    "    count += 1\n",
    "    \n",
    "    if count >= 600:\n",
    "        break\n",
    "    \n",
    "end = time.time()\n",
    "final_time = end - start\n",
    "fps = count/final_time\n",
    "print(f\"FPS: {count}/{final_time} = {fps} FPS\")"
   ]
  }
 ],
 "metadata": {
  "kernelspec": {
   "display_name": "Python 3 (ipykernel)",
   "language": "python",
   "name": "python3"
  },
  "language_info": {
   "codemirror_mode": {
    "name": "ipython",
    "version": 3
   },
   "file_extension": ".py",
   "mimetype": "text/x-python",
   "name": "python",
   "nbconvert_exporter": "python",
   "pygments_lexer": "ipython3",
   "version": "3.11.4"
  }
 },
 "nbformat": 4,
 "nbformat_minor": 5
}
