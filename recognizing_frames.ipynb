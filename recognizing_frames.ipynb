{
 "cells": [
  {
   "cell_type": "code",
   "execution_count": 3,
   "id": "4fa531a2-eea2-4e2d-b48a-3221e6fae605",
   "metadata": {},
   "outputs": [],
   "source": [
    "from spi_utilities import SPI_Utils"
   ]
  },
  {
   "cell_type": "code",
   "execution_count": 4,
   "id": "869bff6b-fac5-4faf-991e-05a5b2707b28",
   "metadata": {},
   "outputs": [
    {
     "name": "stdout",
     "output_type": "stream",
     "text": [
      "Requested video sources are:\n",
      "  - .\\demo_data\\video_sample_1.mp4\n",
      "  - .\\demo_data\\video_sample_2.mp4\n",
      "  - .\\demo_data\\video_sample_3.mp4\n",
      "  - .\\demo_data\\video_sample_4.mp4\n",
      "  - .\\demo_data\\video_phu_test.mp4\n",
      "  - .\\demo_data\\video_thinh_test.mp4\n",
      "  - .\\demo_data\\video_manh_test.mp4\n",
      "\n",
      "\n",
      "8 encoding images found.\n",
      "Encoding images loaded\n"
     ]
    },
    {
     "data": {
      "application/vnd.jupyter.widget-view+json": {
       "model_id": "9cde113ccc9e4443a60e07017e0f1965",
       "version_major": 2,
       "version_minor": 0
      },
      "text/plain": [
       "Map(center=[38.6252978589571, -97.3458993652344], controls=(ZoomControl(options=['position', 'zoom_in_text', '…"
      ]
     },
     "metadata": {},
     "output_type": "display_data"
    },
    {
     "name": "stdout",
     "output_type": "stream",
     "text": [
      "New files #: 0\n",
      "FPS: 0/1e-05 = 0.0 FPS\n",
      "New files #: 0\n",
      "FPS: 0/1e-05 = 0.0 FPS\n",
      "New files #: 0\n",
      "FPS: 0/1e-05 = 0.0 FPS\n",
      "New files #: 0\n",
      "FPS: 0/1e-05 = 0.0 FPS\n",
      "New files #: 0\n",
      "FPS: 0/1e-05 = 0.0 FPS\n",
      "New files #: 143\n",
      "Phát hiện Chris_Pratt ở cam_id = 102, frame_num = 2 và vĩ/kinh độ = 19.753641/-155.523956\n",
      "Phát hiện jeff_bezos ở cam_id = 103, frame_num = 6 và vĩ/kinh độ = 29.774382/-95.368318\n",
      "Phát hiện Ben_Affleck ở cam_id = 101, frame_num = 7 và vĩ/kinh độ = 34.130499/-118.321127\n",
      "Phát hiện Levan_Suliman ở cam_id = 104, frame_num = 45 và vĩ/kinh độ = 38.962368/-77.018047\n",
      "Phát hiện phu ở cam_id = 105, frame_num = 66 và vĩ/kinh độ = 18.06/105.36\n",
      "FPS: 143/53.61954975128174 = 2.66693772445528 FPS\n",
      "New files #: 1723\n",
      "Phát hiện manh ở cam_id = 107, frame_num = 144 và vĩ/kinh độ = 21.030696/105.852405\n",
      "Phát hiện thinh ở cam_id = 106, frame_num = 152 và vĩ/kinh độ = 21.641/105.43\n"
     ]
    },
    {
     "ename": "KeyboardInterrupt",
     "evalue": "",
     "output_type": "error",
     "traceback": [
      "\u001b[1;31m---------------------------------------------------------------------------\u001b[0m",
      "\u001b[1;31mKeyboardInterrupt\u001b[0m                         Traceback (most recent call last)",
      "Cell \u001b[1;32mIn[4], line 4\u001b[0m\n\u001b[0;32m      2\u001b[0m     frame_recongizer \u001b[38;5;241m=\u001b[39m SPI_Utils(mode\u001b[38;5;241m=\u001b[39m\u001b[38;5;124m\"\u001b[39m\u001b[38;5;124mrecognition\u001b[39m\u001b[38;5;124m\"\u001b[39m)\n\u001b[0;32m      3\u001b[0m     frame_recongizer\u001b[38;5;241m.\u001b[39mperform_spark_streaming_and_processing() \n\u001b[1;32m----> 4\u001b[0m \u001b[43mmain\u001b[49m\u001b[43m(\u001b[49m\u001b[43m)\u001b[49m\n",
      "Cell \u001b[1;32mIn[4], line 3\u001b[0m, in \u001b[0;36mmain\u001b[1;34m()\u001b[0m\n\u001b[0;32m      1\u001b[0m \u001b[38;5;28;01mdef\u001b[39;00m \u001b[38;5;21mmain\u001b[39m():\n\u001b[0;32m      2\u001b[0m     frame_recongizer \u001b[38;5;241m=\u001b[39m SPI_Utils(mode\u001b[38;5;241m=\u001b[39m\u001b[38;5;124m\"\u001b[39m\u001b[38;5;124mrecognition\u001b[39m\u001b[38;5;124m\"\u001b[39m)\n\u001b[1;32m----> 3\u001b[0m     \u001b[43mframe_recongizer\u001b[49m\u001b[38;5;241;43m.\u001b[39;49m\u001b[43mperform_spark_streaming_and_processing\u001b[49m\u001b[43m(\u001b[49m\u001b[43m)\u001b[49m\n",
      "File \u001b[1;32md:\\WorkSpace_Thinh1\\SPI_Project\\SPI_Seach_for_Persons_of_Interest\\spi_utilities.py:285\u001b[0m, in \u001b[0;36mSPI_Utils.perform_spark_streaming_and_processing\u001b[1;34m(self, patience)\u001b[0m\n\u001b[0;32m    283\u001b[0m \u001b[38;5;28;01mif\u001b[39;00m name \u001b[38;5;241m!=\u001b[39m \u001b[38;5;124m\"\u001b[39m\u001b[38;5;124mUnknown\u001b[39m\u001b[38;5;124m\"\u001b[39m:\n\u001b[0;32m    284\u001b[0m     current_poi_img_path \u001b[38;5;241m=\u001b[39m os\u001b[38;5;241m.\u001b[39mpath\u001b[38;5;241m.\u001b[39mjoin(\u001b[38;5;28mself\u001b[39m\u001b[38;5;241m.\u001b[39mface_store_dir, \u001b[38;5;124mf\u001b[39m\u001b[38;5;124m\"\u001b[39m\u001b[38;5;132;01m{\u001b[39;00mname\u001b[38;5;132;01m}\u001b[39;00m\u001b[38;5;124m.jpg\u001b[39m\u001b[38;5;124m\"\u001b[39m)\n\u001b[1;32m--> 285\u001b[0m     current_poi_img_marker \u001b[38;5;241m=\u001b[39m \u001b[43mget_marker_widget\u001b[49m\u001b[43m(\u001b[49m\u001b[43mcurrent_poi_img_path\u001b[49m\u001b[43m,\u001b[49m\u001b[43m \u001b[49m\u001b[43mname\u001b[49m\u001b[43m)\u001b[49m\n\u001b[0;32m    286\u001b[0m     found_name_location \u001b[38;5;241m=\u001b[39m \u001b[38;5;124mf\u001b[39m\u001b[38;5;124m\"\u001b[39m\u001b[38;5;132;01m{\u001b[39;00mname\u001b[38;5;132;01m}\u001b[39;00m\u001b[38;5;130;01m\\n\u001b[39;00m\u001b[38;5;132;01m{\u001b[39;00mcam_latitude\u001b[38;5;132;01m}\u001b[39;00m\u001b[38;5;124m, \u001b[39m\u001b[38;5;132;01m{\u001b[39;00mcam_longitude\u001b[38;5;132;01m}\u001b[39;00m\u001b[38;5;130;01m\\n\u001b[39;00m\u001b[38;5;124mcam_id=\u001b[39m\u001b[38;5;132;01m{\u001b[39;00mcam_id\u001b[38;5;132;01m}\u001b[39;00m\u001b[38;5;124m\"\u001b[39m\n\u001b[0;32m    287\u001b[0m     \u001b[38;5;28;01mif\u001b[39;00m \u001b[38;5;129;01mnot\u001b[39;00m (found_name_location \u001b[38;5;129;01min\u001b[39;00m \u001b[38;5;28mself\u001b[39m\u001b[38;5;241m.\u001b[39mrecognized_faces_and_locations_set):\n",
      "File \u001b[1;32md:\\WorkSpace_Thinh1\\SPI_Project\\SPI_Seach_for_Persons_of_Interest\\spi_utilities.py:56\u001b[0m, in \u001b[0;36mget_marker_widget\u001b[1;34m(img_path, name)\u001b[0m\n\u001b[0;32m     52\u001b[0m \u001b[38;5;28;01mdef\u001b[39;00m \u001b[38;5;21mget_marker_widget\u001b[39m(img_path, name):\n\u001b[0;32m     54\u001b[0m     \u001b[38;5;28;01mtry\u001b[39;00m:\n\u001b[1;32m---> 56\u001b[0m         image \u001b[38;5;241m=\u001b[39m \u001b[43mIPython\u001b[49m\u001b[38;5;241;43m.\u001b[39;49m\u001b[43mdisplay\u001b[49m\u001b[38;5;241;43m.\u001b[39;49m\u001b[43mImage\u001b[49m\u001b[43m(\u001b[49m\u001b[43mimg_path\u001b[49m\u001b[43m,\u001b[49m\u001b[43m \u001b[49m\u001b[43mwidth\u001b[49m\u001b[43m \u001b[49m\u001b[38;5;241;43m=\u001b[39;49m\u001b[43m \u001b[49m\u001b[38;5;241;43m300\u001b[39;49m\u001b[43m)\u001b[49m\n\u001b[0;32m     58\u001b[0m         widget \u001b[38;5;241m=\u001b[39m widgets\u001b[38;5;241m.\u001b[39mImage(\n\u001b[0;32m     59\u001b[0m             value\u001b[38;5;241m=\u001b[39mimage\u001b[38;5;241m.\u001b[39mdata,\n\u001b[0;32m     60\u001b[0m             \u001b[38;5;28mformat\u001b[39m\u001b[38;5;241m=\u001b[39m\u001b[38;5;124m'\u001b[39m\u001b[38;5;124mjpg\u001b[39m\u001b[38;5;124m'\u001b[39m, \n\u001b[0;32m     61\u001b[0m             width\u001b[38;5;241m=\u001b[39m\u001b[38;5;241m300\u001b[39m,\n\u001b[0;32m     62\u001b[0m             height\u001b[38;5;241m=\u001b[39m\u001b[38;5;241m400\u001b[39m,\n\u001b[0;32m     63\u001b[0m         )\n\u001b[0;32m     65\u001b[0m         \u001b[38;5;28;01mreturn\u001b[39;00m widget\n",
      "File \u001b[1;32m~\\AppData\\Roaming\\Python\\Python311\\site-packages\\IPython\\core\\display.py:970\u001b[0m, in \u001b[0;36mImage.__init__\u001b[1;34m(self, data, url, filename, format, embed, width, height, retina, unconfined, metadata, alt)\u001b[0m\n\u001b[0;32m    968\u001b[0m \u001b[38;5;28mself\u001b[39m\u001b[38;5;241m.\u001b[39munconfined \u001b[38;5;241m=\u001b[39m unconfined\n\u001b[0;32m    969\u001b[0m \u001b[38;5;28mself\u001b[39m\u001b[38;5;241m.\u001b[39malt \u001b[38;5;241m=\u001b[39m alt\n\u001b[1;32m--> 970\u001b[0m \u001b[38;5;28;43msuper\u001b[39;49m\u001b[43m(\u001b[49m\u001b[43mImage\u001b[49m\u001b[43m,\u001b[49m\u001b[43m \u001b[49m\u001b[38;5;28;43mself\u001b[39;49m\u001b[43m)\u001b[49m\u001b[38;5;241;43m.\u001b[39;49m\u001b[38;5;21;43m__init__\u001b[39;49m\u001b[43m(\u001b[49m\u001b[43mdata\u001b[49m\u001b[38;5;241;43m=\u001b[39;49m\u001b[43mdata\u001b[49m\u001b[43m,\u001b[49m\u001b[43m \u001b[49m\u001b[43murl\u001b[49m\u001b[38;5;241;43m=\u001b[39;49m\u001b[43murl\u001b[49m\u001b[43m,\u001b[49m\u001b[43m \u001b[49m\u001b[43mfilename\u001b[49m\u001b[38;5;241;43m=\u001b[39;49m\u001b[43mfilename\u001b[49m\u001b[43m,\u001b[49m\n\u001b[0;32m    971\u001b[0m \u001b[43m        \u001b[49m\u001b[43mmetadata\u001b[49m\u001b[38;5;241;43m=\u001b[39;49m\u001b[43mmetadata\u001b[49m\u001b[43m)\u001b[49m\n\u001b[0;32m    973\u001b[0m \u001b[38;5;28;01mif\u001b[39;00m \u001b[38;5;28mself\u001b[39m\u001b[38;5;241m.\u001b[39mwidth \u001b[38;5;129;01mis\u001b[39;00m \u001b[38;5;28;01mNone\u001b[39;00m \u001b[38;5;129;01mand\u001b[39;00m \u001b[38;5;28mself\u001b[39m\u001b[38;5;241m.\u001b[39mmetadata\u001b[38;5;241m.\u001b[39mget(\u001b[38;5;124m'\u001b[39m\u001b[38;5;124mwidth\u001b[39m\u001b[38;5;124m'\u001b[39m, {}):\n\u001b[0;32m    974\u001b[0m     \u001b[38;5;28mself\u001b[39m\u001b[38;5;241m.\u001b[39mwidth \u001b[38;5;241m=\u001b[39m metadata[\u001b[38;5;124m'\u001b[39m\u001b[38;5;124mwidth\u001b[39m\u001b[38;5;124m'\u001b[39m]\n",
      "File \u001b[1;32m~\\AppData\\Roaming\\Python\\Python311\\site-packages\\IPython\\core\\display.py:310\u001b[0m, in \u001b[0;36mDisplayObject.__init__\u001b[1;34m(self, data, url, filename, metadata)\u001b[0m\n\u001b[0;32m    308\u001b[0m     filename \u001b[38;5;241m=\u001b[39m \u001b[38;5;28;01mNone\u001b[39;00m\n\u001b[0;32m    309\u001b[0m     data \u001b[38;5;241m=\u001b[39m \u001b[38;5;28;01mNone\u001b[39;00m\n\u001b[1;32m--> 310\u001b[0m \u001b[38;5;28;01melif\u001b[39;00m \u001b[43m_safe_exists\u001b[49m\u001b[43m(\u001b[49m\u001b[43mdata\u001b[49m\u001b[43m)\u001b[49m \u001b[38;5;129;01mand\u001b[39;00m filename \u001b[38;5;129;01mis\u001b[39;00m \u001b[38;5;28;01mNone\u001b[39;00m:\n\u001b[0;32m    311\u001b[0m     url \u001b[38;5;241m=\u001b[39m \u001b[38;5;28;01mNone\u001b[39;00m\n\u001b[0;32m    312\u001b[0m     filename \u001b[38;5;241m=\u001b[39m data\n",
      "File \u001b[1;32m~\\AppData\\Roaming\\Python\\Python311\\site-packages\\IPython\\core\\display.py:60\u001b[0m, in \u001b[0;36m_safe_exists\u001b[1;34m(path)\u001b[0m\n\u001b[0;32m     58\u001b[0m \u001b[38;5;250m\u001b[39m\u001b[38;5;124;03m\"\"\"Check path, but don't let exceptions raise\"\"\"\u001b[39;00m\n\u001b[0;32m     59\u001b[0m \u001b[38;5;28;01mtry\u001b[39;00m:\n\u001b[1;32m---> 60\u001b[0m     \u001b[38;5;28;01mreturn\u001b[39;00m \u001b[43mos\u001b[49m\u001b[38;5;241;43m.\u001b[39;49m\u001b[43mpath\u001b[49m\u001b[38;5;241;43m.\u001b[39;49m\u001b[43mexists\u001b[49m\u001b[43m(\u001b[49m\u001b[43mpath\u001b[49m\u001b[43m)\u001b[49m\n\u001b[0;32m     61\u001b[0m \u001b[38;5;28;01mexcept\u001b[39;00m \u001b[38;5;167;01mException\u001b[39;00m:\n\u001b[0;32m     62\u001b[0m     \u001b[38;5;28;01mreturn\u001b[39;00m \u001b[38;5;28;01mFalse\u001b[39;00m\n",
      "File \u001b[1;32m<frozen genericpath>:19\u001b[0m, in \u001b[0;36mexists\u001b[1;34m(path)\u001b[0m\n",
      "\u001b[1;31mKeyboardInterrupt\u001b[0m: "
     ]
    }
   ],
   "source": [
    "def main():\n",
    "    frame_recongizer = SPI_Utils(mode=\"recognition\")\n",
    "    frame_recongizer.perform_spark_streaming_and_processing() \n",
    "main()"
   ]
  },
  {
   "cell_type": "code",
   "execution_count": 3,
   "id": "0ea05181-6b74-41b2-a601-a77839784736",
   "metadata": {},
   "outputs": [
    {
     "name": "stdout",
     "output_type": "stream",
     "text": [
      "FPS: 600/5.10900092124939 = 117.43979091968376 FPS\n"
     ]
    }
   ],
   "source": [
    "import os\n",
    "import cv2\n",
    "import time\n",
    "import pickle\n",
    "import ujson as json\n",
    "from json import JSONEncoder\n",
    "import numpy as np\n",
    "import matplotlib.pyplot as plt\n",
    "\n",
    "# encode frame when saving into json file:\n",
    "class NumpyArrayEncoder(JSONEncoder):\n",
    "    def default(self, obj):\n",
    "        if isinstance(obj, np.ndarray):\n",
    "            return obj.tolist()\n",
    "        return JSONEncoder.default(self, obj)\n",
    "\n",
    "vidcap = cv2.VideoCapture(\"http://commondatastorage.googleapis.com/gtv-videos-bucket/sample/BigBuckBunny.mp4\")  # 'BigBuckBunny.mp4')\n",
    "success,frame = vidcap.read()\n",
    "# print(success)\n",
    "count = 0\n",
    "start = time.time()\n",
    "save_to = os.path.join(os.getcwd(), \"test\")\n",
    "while success:\n",
    "    # cv2.imwrite(\"test/frame%d.jpg\" % count, frame)     # save frame as JPEG file      \n",
    "    \n",
    "    data = {\n",
    "            'frame' : frame,\n",
    "            'shape' : str(frame.shape),\n",
    "            'dtype' : str(frame.dtype),\n",
    "            'timestamp': str(time.time()),\n",
    "            'cam_id' : str(2124),\n",
    "            'cam_latitude' : 29.42842,\n",
    "            'cam_longitude' : -98.43854,\n",
    "            'video_source' : \"BigBuckBunny.mp4\"\n",
    "    }\n",
    "    save_frame_as = os.path.join(save_to, f\"{count}.pickle\")  # pickle\")\n",
    "    with open(save_frame_as, 'wb') as f:\n",
    "        # Pickle the 'data' dictionary using the highest protocol available.\n",
    "        pickle.dump(data, f, pickle.HIGHEST_PROTOCOL)\n",
    "    # with open(save_frame_as, 'w') as f:\n",
    "    #    encodedNumpyData = json.dump(data, f)  # , cls=NumpyArrayEncoder)  # use dumps() to use it as local file\n",
    "    with open(save_frame_as, \"rb\") as input_file:\n",
    "        e = pickle.load(input_file)\n",
    "    frame = e[\"frame\"]        \n",
    "    \n",
    "    success,frame = vidcap.read()\n",
    "    count += 1\n",
    "    \n",
    "    if count >= 600:\n",
    "        break\n",
    "    \n",
    "end = time.time()\n",
    "final_time = end - start\n",
    "fps = count/final_time\n",
    "print(f\"FPS: {count}/{final_time} = {fps} FPS\")"
   ]
  }
 ],
 "metadata": {
  "kernelspec": {
   "display_name": "Python 3 (ipykernel)",
   "language": "python",
   "name": "python3"
  },
  "language_info": {
   "codemirror_mode": {
    "name": "ipython",
    "version": 3
   },
   "file_extension": ".py",
   "mimetype": "text/x-python",
   "name": "python",
   "nbconvert_exporter": "python",
   "pygments_lexer": "ipython3",
   "version": "3.11.4"
  }
 },
 "nbformat": 4,
 "nbformat_minor": 5
}
